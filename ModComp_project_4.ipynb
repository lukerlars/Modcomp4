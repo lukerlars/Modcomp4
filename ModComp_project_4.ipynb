{
 "metadata": {
  "language_info": {
   "codemirror_mode": {
    "name": "ipython",
    "version": 3
   },
   "file_extension": ".py",
   "mimetype": "text/x-python",
   "name": "python",
   "nbconvert_exporter": "python",
   "pygments_lexer": "ipython3",
   "version": "3.8.5-final"
  },
  "orig_nbformat": 2,
  "kernelspec": {
   "name": "python3",
   "display_name": "Python 3"
  }
 },
 "nbformat": 4,
 "nbformat_minor": 2,
 "cells": [
  {
   "source": [
    "# Gone (randomly?) viral\n",
    "\n",
    "### Final project in Modelling and Computational Engineering (MOD 510) Dec 2020\n",
    "\n",
    "Lars B Lukerstuen (248800)\n",
    "\n",
    "Joakim O Gjermundstad (251365)"
   ],
   "cell_type": "markdown",
   "metadata": {}
  },
  {
   "source": [
    "# Abstract"
   ],
   "cell_type": "markdown",
   "metadata": {}
  },
  {
   "source": [
    "# Introdution"
   ],
   "cell_type": "markdown",
   "metadata": {}
  },
  {
   "cell_type": "code",
   "execution_count": 1,
   "metadata": {},
   "outputs": [],
   "source": [
    "import numpy as np\n",
    "import matplotlib.pyplot as plt\n",
    "from enum import Enum\n",
    "from functools import reduce"
   ]
  },
  {
   "cell_type": "code",
   "execution_count": 583,
   "metadata": {},
   "outputs": [],
   "source": [
    "class DiseaseStatus(Enum):  \n",
    "    SUSCEPTIBLE = 0\n",
    "    INFECTIOUS = 1\n",
    "    RECOVERED = 2\n",
    "    DEAD = 3\n",
    "\n",
    "class RandomWalkEpidemicSimulator:\n",
    "    \"\"\"\n",
    "    Class used to model the spreading of a contagious disease in a\n",
    "    population of individuals with a 2D random walk.\n",
    "\n",
    "    Each walker has a disease status which is represented by an \n",
    "    integer Enum. Also, a set of integer (x, y)-coordinates are \n",
    "    stored for each walker. The possible coordinates are:\n",
    "\n",
    "        {0, 1, ..., Lx-1} in the x-direction\n",
    "        {0, 1, ..., Ly-1} in the y-direction\n",
    "\n",
    "    It is only possible to move North, South, East, or West. If a \n",
    "    walker attempts to move outside of the physical domain, nothing \n",
    "    happens (i.e., a \"bounce-back boundary condition\" is enforced).\n",
    "    \"\"\"\n",
    "\n",
    "    \n",
    "    SUSCEPTIBLE = DiseaseStatus.SUSCEPTIBLE\n",
    "\n",
    "    def __init__(self,population_size, no_init_infected=4,nx=10,ny=10, q=0.9):\n",
    "        \"\"\"\n",
    "        :param population_size: The total number of people (N).\n",
    "        :param no_init_infected: The number of infected people at t=0.\n",
    "        :param nx: The number of lattice nodes in the x-direction \n",
    "        :param ny: The number of lattice nodes in the y-direction.\n",
    "        :param q: The probability of infection (0 <= q <= 1).\n",
    "        \"\"\"\n",
    "        self.N_ = population_size\n",
    "        self.I0_= no_init_infected\n",
    "        self.nx_= nx\n",
    "        self.ny_= ny\n",
    "        self.infection_probability_ = q\n",
    "        self.State_ = np.full(self.N_, DiseaseStatus.SUSCEPTIBLE)\n",
    "        self.State_[0:self.I0_] = DiseaseStatus.INFECTIOUS\n",
    "       \n",
    "        self.Walkers_ = np.random.randint(0, [self.nx_, self.ny_], size=(self.N_, 2))\n",
    "        self.Walkers_Old_ = self.Walkers_.copy()\n",
    "\n",
    "    def is_in_invalid_position(self, walker):\n",
    "        x_check = any([walker[0] >= self.nx_ , walker[0] < 0])\n",
    "        y_check =any([walker[1] >=self.ny_ , walker[1] <0])\n",
    "        return x_check or y_check\n",
    "\n",
    "    def move_walkers(self):\n",
    "        self.Walkers_Old_ = self.Walkers_.copy()\n",
    "        random_step_index =np.random.randint(0,4, size =(self.N_))\n",
    "        next_steps = np.array([[0,1], [1,0], [0,-1], [-1,0]])\n",
    "        self.Walkers_ += next_steps[random_step_index]\n",
    "       \n",
    "        for walker_index in range(self.N_):\n",
    "            if self.is_in_invalid_position(self.Walkers_[walker_index]):\n",
    "                self.Walkers_[walker_index] = self.Walkers_Old_[walker_index]   \n",
    "    \n",
    "    \n",
    "    def coordinates_to_real_line(self, array):\n",
    "        \"\"\"Function that maps coordinates in strictly positive (x,y) grid, to real line isomorphically\n",
    "        used in collision detection\"\"\"\n",
    "        if array[0] >= self.nx_ or array[1] >= self.nx_:\n",
    "            raise Exception('error, out of range') \n",
    "        return (self.nx_)*array[0]+array[1]\n",
    "    \n",
    "    def real_line_to_coordinates(self,value):\n",
    "        \"\"\" Inverse map of coordinates to real line\n",
    "        \"\"\"\n",
    "        if value == 0:\n",
    "            return [0,0]\n",
    "        else:\n",
    "            return [int((value-(value % self.nx_))/self.nx_),int(value % self.nx_)] \n",
    "\n",
    "\n",
    "    def confusing_intersector(array1, array2):\n",
    "        \"\"\"Somewhat confsuing function that: Takes in two (n, 2) arrays\n",
    "        e.g arrays of the type array1 = [[1,2], [2,1], ...]\n",
    "        finds (identical) repeated elements in between the two arrays ans gives out \n",
    "        index of location of this element in both arrays.\n",
    "\n",
    "        \"\"\"\n",
    "        x1v,x2v = np.meshgrid(array2[:,0],array1[:,0])\n",
    "        y1v,y2v = np.meshgrid(array2[:,1],array1[:,1])\n",
    "\n",
    "        x_diffmat = x1v-x2v \n",
    "        y_diffmat = y1v -y2v\n",
    "\n",
    "        plusmat = x1v-x2v +y1v -y2v\n",
    "        subtrmat = x1v-x2v -(y1v -y2v)\n",
    "\n",
    "        plusmat_array1_zero = np.where(plusmat ==0)\n",
    "        subtrmat_array1_zero = np.where(subtrmat ==0)\n",
    "\n",
    "        array_1_all_intersect = reduce(np.intersect1d,(np.where(x_diffmat== 0)[0],np.where(y_diffmat ==0)[0],plusmat_array1_zero[0],subtrmat_array1_zero[0]))\n",
    "        array_2_all_intersect = reduce(np.intersect1d,(np.where(x_diffmat== 0)[1],np.where(y_diffmat ==0)[1],plusmat_array1_zero[1],subtrmat_array1_zero[1]))\n",
    "        \n",
    "        return (array_1_all_intersect, array_2_all_intersect)\n",
    "    \n",
    "    def collision(self):\n",
    "        infected_indices = np.where(self.State_ == DiseaseStatus.INFECTIOUS)[0]\n",
    "        infected_positions = self.Walkers_[infected_indices]\n",
    "        infected_positions_1d =np.array([self.coordinates_to_real_line(point) for point in infected_positions])\n",
    "        \n",
    "        susceptible_indices = np.where(self.State_== DiseaseStatus.SUSCEPTIBLE)[0]\n",
    "        susceptible_positions = self.Walkers_[susceptible_indices]\n",
    "        \n",
    "        susceptible_positions_1d =np.array([self.coordinates_to_real_line(point) for point in susceptible_positions])\n",
    "        collisions_on_real_line = np.intersect1d(infected_positions_1d, susceptible_positions_1d)\n",
    "\n",
    "        indeces_for_may_be_infected = np.where(susceptible_positions_1d == collisions_on_real_line)\n",
    "        \n",
    "\n",
    "        #collision_coordinates =np.array([self.real_line_to_coordinates(val) for val in collisions_on_real_line])\n",
    "        susc_to_infected_index =[]\n",
    "        for infected in infected_positions_1d:\n",
    "            susc_to_infected_index.append(np.where(susceptible_positions_1d == infected)[0])\n",
    "         \n",
    "        for index in susc_to_infected_index:\n",
    "            self.State_[index] = DiseaseStatus.INFECTIOUS\n",
    "\n",
    "\n",
    "    def topdown():\n",
    "        pass\n",
    "\n",
    "\n",
    "       \n",
    "        \n",
    "                \n",
    "\n",
    "\n",
    "\n"
   ]
  },
  {
   "cell_type": "code",
   "execution_count": 470,
   "metadata": {
    "tags": []
   },
   "outputs": [],
   "source": [
    "test_instance = RandomWalkEpidemicSimulator(population_size=20)\n",
    "\n"
   ]
  },
  {
   "cell_type": "code",
   "execution_count": 478,
   "metadata": {
    "tags": []
   },
   "outputs": [
    {
     "output_type": "execute_result",
     "data": {
      "text/plain": [
       "array([<DiseaseStatus.INFECTIOUS: 1>, <DiseaseStatus.INFECTIOUS: 1>,\n",
       "       <DiseaseStatus.INFECTIOUS: 1>, <DiseaseStatus.INFECTIOUS: 1>,\n",
       "       <DiseaseStatus.INFECTIOUS: 1>, <DiseaseStatus.INFECTIOUS: 1>,\n",
       "       <DiseaseStatus.INFECTIOUS: 1>, <DiseaseStatus.INFECTIOUS: 1>,\n",
       "       <DiseaseStatus.INFECTIOUS: 1>, <DiseaseStatus.INFECTIOUS: 1>,\n",
       "       <DiseaseStatus.INFECTIOUS: 1>, <DiseaseStatus.SUSCEPTIBLE: 0>,\n",
       "       <DiseaseStatus.INFECTIOUS: 1>, <DiseaseStatus.SUSCEPTIBLE: 0>,\n",
       "       <DiseaseStatus.SUSCEPTIBLE: 0>, <DiseaseStatus.SUSCEPTIBLE: 0>,\n",
       "       <DiseaseStatus.SUSCEPTIBLE: 0>, <DiseaseStatus.SUSCEPTIBLE: 0>,\n",
       "       <DiseaseStatus.SUSCEPTIBLE: 0>, <DiseaseStatus.SUSCEPTIBLE: 0>],\n",
       "      dtype=object)"
      ]
     },
     "metadata": {},
     "execution_count": 478
    }
   ],
   "source": [
    "for i in range (0,50):\n",
    "    test_instance.move_walkers()\n",
    "    test_instance.collision()\n",
    "test_instance.State_       \n",
    "\n",
    "\n"
   ]
  },
  {
   "cell_type": "code",
   "execution_count": 581,
   "metadata": {
    "tags": []
   },
   "outputs": [
    {
     "output_type": "stream",
     "name": "stdout",
     "text": [
      "[[-5 -1 -6]\n [ 0  4 -1]\n [-5 -1 -6]\n [ 0  4 -1]]\n[[-3 -5  1]\n [-1 -3  3]\n [-4 -6  0]\n [-1 -3  3]]\n[[-8 -6 -5]\n [-1  1  2]\n [-9 -7 -6]\n [-1  1  2]]\n[[-2  4 -7]\n [ 1  7 -4]\n [-1  5 -6]\n [ 1  7 -4]]\n"
     ]
    }
   ],
   "source": [
    "testarray1 = np.array([[1,2],\n",
    "                       [5,0],\n",
    "                       [0,6]])\n",
    "\n",
    "\n",
    "testarray2 = np.array([[6,5],\n",
    "                       [1,3],\n",
    "                       [6,6],\n",
    "                       [1,3]])\n",
    "\n",
    "x1v,x2v = np.meshgrid(testarray1[:,0],testarray2[:,0])\n",
    "y1v,y2v = np.meshgrid(testarray1[:,1], testarray2[:,1])\n",
    "\n",
    "#print(x1v)\n",
    "# print(x2v)\n",
    "print(x1v-x2v)\n",
    "\n",
    "# print(y1v)\n",
    "# print(y2v)\n",
    "print(y1v-y2v)\n",
    "\n",
    "print(x1v-x2v +y1v -y2v)\n",
    "print(x1v-x2v -(y1v -y2v))"
   ]
  },
  {
   "cell_type": "code",
   "execution_count": 582,
   "metadata": {},
   "outputs": [
    {
     "output_type": "execute_result",
     "data": {
      "text/plain": [
       "(array([], dtype=int64), array([], dtype=int64))"
      ]
     },
     "metadata": {},
     "execution_count": 582
    }
   ],
   "source": [
    "from functools import reduce\n",
    "\n",
    "def confusing_intersector(array1, array2):\n",
    "    x1v,x2v = np.meshgrid(array2[:,0],array1[:,0])\n",
    "    y1v,y2v = np.meshgrid(array2[:,1],array1[:,1])\n",
    "\n",
    "    x_diffmat = x1v-x2v \n",
    "    y_diffmat = y1v -y2v\n",
    "\n",
    "    plusmat = x1v-x2v +y1v -y2v\n",
    "    subtrmat = x1v-x2v -(y1v -y2v)\n",
    "\n",
    "    plusmat_array1_zero = np.where(plusmat ==0)\n",
    "    subtrmat_array1_zero = np.where(subtrmat ==0)\n",
    "\n",
    "    array_1_all_intersect = reduce(np.intersect1d,(np.where(x_diffmat== 0)[0],np.where(y_diffmat ==0)[0],plusmat_array1_zero[0],subtrmat_array1_zero[0]))\n",
    "    array_2_all_intersect = reduce(np.intersect1d,(np.where(x_diffmat== 0)[1],np.where(y_diffmat ==0)[1],plusmat_array1_zero[1],subtrmat_array1_zero[1]))\n",
    "    \n",
    "    return (array_1_all_intersect, array_2_all_intersect)\n",
    "\n",
    "\n",
    "lets_try_this_again(testarray1,testarray2)"
   ]
  },
  {
   "source": [
    "# Exercise 1"
   ],
   "cell_type": "markdown",
   "metadata": {}
  },
  {
   "source": [
    "<ol>\n",
    "<li> <code>reset_model</code>: set correct values for all model parameters at \\( t=0 \\). This includes assigning a starting location for each walker.</li>\n",
    "<li> <code>move_walkers</code>: Move all walkers a single step.</li>\n",
    "<li> <code>revert_illegal_moves</code>: For each move that was actually illegal, go back. To be able to do so, you must have temporarily stored the old positions.</li>\n",
    "<li> <code>collide</code>: check for new infections, whether previously infected individuals become contagious (if including a latent period), if an infected person becomes immune or dies etc. Update the current state accordingly.</li>\n",
    "<li> <code>plot_current_state</code>: visualize walker positions, and/or selected summary statistics (total number of infectious, recovered, dead, etc.). This is very useful for debugging. However, you should not automatically plot every time step, only selected ones specified by the user.</li>\n",
    "<li> <code>save_current_state</code>: Save (selected) information about the current state for later retrieval (also useful for debugging, and needed for doing statistics). At the very least, you need to record how many people there are in each \"disease compartment\" at each time step.</li>\n",
    "<li> <code>simulate</code>: Top-level function that organizes a full simulation from start to finish (using the other steps).</li>\n",
    "</ol>\n",
    "\n",
    "It is recommended that you code all of these steps as separate Python functions, and moreover that you place them all within a single class. You can of course use different function names if you want, but they should be meaningful. Appendix A contains example code for the beginning of a class implementation."
   ],
   "cell_type": "markdown",
   "metadata": {}
  },
  {
   "cell_type": "code",
   "execution_count": null,
   "metadata": {},
   "outputs": [],
   "source": []
  }
 ]
}