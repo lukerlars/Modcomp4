{
 "cells": [
  {
   "cell_type": "markdown",
   "metadata": {},
   "source": [
    "# Gone (randomly?) viral\n",
    "\n",
    "### Final project in Modelling and Computational Engineering (MOD 510) Dec 2020\n",
    "\n",
    "Lars B Lukerstuen (248800)\n",
    "\n",
    "Joakim O Gjermundstad (251365)"
   ]
  },
  {
   "cell_type": "markdown",
   "metadata": {},
   "source": [
    "# Abstract"
   ]
  },
  {
   "cell_type": "markdown",
   "metadata": {},
   "source": [
    "# Introdution"
   ]
  },
  {
   "cell_type": "code",
   "execution_count": 768,
   "metadata": {},
   "outputs": [],
   "source": [
    "import numpy as np\n",
    "import matplotlib.pyplot as plt\n",
    "from enum import Enum\n",
    "from functools import reduce\n",
    "\n",
    "np.random.seed(22)"
   ]
  },
  {
   "cell_type": "code",
   "execution_count": 800,
   "metadata": {},
   "outputs": [],
   "source": [
    "class DiseaseStatus(Enum):  \n",
    "    SUSCEPTIBLE = 0\n",
    "    INFECTIOUS = 1\n",
    "    RECOVERED = 2\n",
    "    DEAD = 3\n",
    "\n",
    "class RandomWalkEpidemicSimulator:\n",
    "    \"\"\"\n",
    "    Class used to model the spreading of a contagious disease in a\n",
    "    population of individuals with a 2D random walk.\n",
    "\n",
    "    Each walker has a disease status which is represented by an \n",
    "    integer Enum. Also, a set of integer (x, y)-coordinates are \n",
    "    stored for each walker. The possible coordinates are:\n",
    "\n",
    "        {0, 1, ..., Lx-1} in the x-direction\n",
    "        {0, 1, ..., Ly-1} in the y-direction\n",
    "\n",
    "    It is only possible to move North, South, East, or West. If a \n",
    "    walker attempts to move outside of the physical domain, nothing \n",
    "    happens (i.e., a \"bounce-back boundary condition\" is enforced).\n",
    "    \"\"\"\n",
    "\n",
    "    \n",
    "    SUSCEPTIBLE = DiseaseStatus.SUSCEPTIBLE\n",
    "\n",
    "    def __init__(self,population_size, no_init_infected=1,nx=50,ny=50, q=0.9):\n",
    "        \"\"\"\n",
    "        :param population_size: The total number of people (N).\n",
    "        :param no_init_infected: The number of infected people at t=0.\n",
    "        :param nx: The number of lattice nodes in the x-direction \n",
    "        :param ny: The number of lattice nodes in the y-direction.\n",
    "        :param q: The probability of infection (0 <= q <= 1).\n",
    "        \"\"\"\n",
    "        self.N_ = population_size\n",
    "        self.I0_= no_init_infected\n",
    "        self.nx_= nx\n",
    "        self.ny_= ny\n",
    "        self.infection_probability_ = q\n",
    "        self.idx_ = np.arange(0,self.N_,1)\n",
    "        self.State_ = np.full(self.N_, DiseaseStatus.SUSCEPTIBLE)\n",
    "        self.State_[0:self.I0_] = DiseaseStatus.INFECTIOUS\n",
    "       \n",
    "        self.Walkers_ = np.random.randint(0, [self.nx_, self.ny_], size=(self.N_, 2))\n",
    "        self.Walkers_Old_ = self.Walkers_.copy()\n",
    "        \n",
    "        # Cumulative holders; accessed by the save state function\n",
    "        self.infectious_cumulative =[self.I0_]\n",
    "        self.susceptible_cumulative =[self.N_ -self.I0_]\n",
    "\n",
    "    def is_in_invalid_position(self, walker):\n",
    "        x_check = any([walker[0] > self.nx_ , walker[0] < 0])\n",
    "        y_check =any([walker[1] >self.ny_ , walker[1] <0])\n",
    "        return x_check or y_check\n",
    "\n",
    "    def move_walkers(self):\n",
    "        self.Walkers_Old_ = self.Walkers_.copy()\n",
    "        random_step_index =np.random.randint(0,4, size =(self.N_))\n",
    "        next_steps = np.array([[0,1], [1,0], [0,-1], [-1,0]])\n",
    "        self.Walkers_ += next_steps[random_step_index]\n",
    "       \n",
    "        for walker_index in range(self.N_):\n",
    "            if self.is_in_invalid_position(self.Walkers_[walker_index]):\n",
    "                self.Walkers_[walker_index] = self.Walkers_Old_[walker_index]   \n",
    "    \n",
    "    \n",
    "    def collision(self):\n",
    "        infectious_index = self.idx_[self.State_ == DiseaseStatus.INFECTIOUS]\n",
    "        susceptible_index = self.idx_[self.State_==DiseaseStatus.SUSCEPTIBLE]\n",
    "        \n",
    "        infectious_locations = self.Walkers_[self.State_ == DiseaseStatus.INFECTIOUS]\n",
    "        susceptible_location = self.Walkers_[self.State_ == DiseaseStatus.SUSCEPTIBLE]\n",
    "        \n",
    "        for infected_cord in infectious_locations:\n",
    "            x_intersect = np.where(infected_cord[0] == susceptible_location[:,0])[0]\n",
    "            y_intersect = np.where(infected_cord[1] == susceptible_location[:,1])[0]\n",
    "            \n",
    "            x_suscept = susceptible_index[x_intersect]\n",
    "            y_suscept = susceptible_index[y_intersect]\n",
    "            \n",
    "            \n",
    "            x_y_suscept_intersect =np.intersect1d(x_suscept,y_suscept)\n",
    "\n",
    "            if x_y_suscept_intersect.size >0:\n",
    "                for intersect in x_y_suscept_intersect:\n",
    "                    #print(self.Walkers_[intersect],infected_cord)\n",
    "                    if np.random.randint(0,1) < self.infection_probability_:\n",
    "                        self.State_[intersect] = DiseaseStatus.INFECTIOUS\n",
    "                    else:\n",
    "                        pass\n",
    "        \n",
    "    \n",
    "        \n",
    "    def plot_current_state(self):     \n",
    "        infectious_locations = self.Walkers_[np.where(self.State_ == DiseaseStatus.INFECTIOUS)]\n",
    "        susceptible_locations = self.Walkers_[np.where(self.State_ == DiseaseStatus.SUSCEPTIBLE)]\n",
    "        \n",
    "        popfig, ax =plt.subplots(figsize =(10,10))\n",
    "        plt.grid()\n",
    "        plt.xlim(-1, self.nx_ +1)\n",
    "        plt.ylim(-1, self.ny_+1)\n",
    "        plt.xticks(np.arange(0,self.nx_+1,1))\n",
    "        plt.yticks(np.arange(0,self.ny_+1,1))\n",
    "        ax.scatter(susceptible_locations[:,0], susceptible_locations[:,1], color ='Blue', label = 'Susceptible', marker = 'v', s=80)\n",
    "        ax.scatter(infectious_locations[:,0], infectious_locations[:,1], color ='Red', label = 'Infectious', marker = 'o')\n",
    "        \n",
    "    def save_current_state(self):\n",
    "        number_of_infectious = np.count_nonzero(self.State_[self.State_ == DiseaseStatus.INFECTIOUS], axis =0)\n",
    "        number_of_susceptible = np.count_nonzero(self.State_[self.State_ == DiseaseStatus.SUSCEPTIBLE], axis =0)\n",
    "               \n",
    "        self.infectious_cumulative.append(number_of_infectious)\n",
    "        self.susceptible_cumulative.append(number_of_susceptible)\n",
    "        \n",
    "    def simulate(self, iterations):\n",
    "        for i in range(iterations):\n",
    "            test_instance.save_current_state()\n",
    "            test_instance.move_walkers()\n",
    "            #if i % 2 == 0:\n",
    "            #    test_instance.plot_current_state()\n",
    "            test_instance.collision()\n",
    "        \n",
    "        \n",
    "        \n",
    "        \n",
    "        \n",
    "        \n",
    "\n",
    "\n",
    "                                             \n",
    "                \n",
    "                \n",
    "    \n",
    "        \n",
    "\n",
    "    \n",
    "\n"
   ]
  },
  {
   "cell_type": "code",
   "execution_count": 807,
   "metadata": {
    "tags": []
   },
   "outputs": [
    {
     "data": {
      "text/plain": [
       "[<matplotlib.lines.Line2D at 0x7f95c06dfd10>]"
      ]
     },
     "execution_count": 807,
     "metadata": {},
     "output_type": "execute_result"
    },
    {
     "data": {
      "image/png": "[encoded data removed]",
      "text/plain": [
       "<Figure size 432x288 with 1 Axes>"
      ]
     },
     "metadata": {
      "needs_background": "light"
     },
     "output_type": "display_data"
    }
   ],
   "source": [
    "test_instance = RandomWalkEpidemicSimulator(population_size=683)\n",
    "\n",
    "test_instance.simulate(20)\n",
    "\n",
    "figure, axes = plt.subplots()\n",
    "\n",
    "axes.plot(np.arange(0,len(test_instance.infectious_cumulative)),test_instance.infectious_cumulative)\n",
    "#axes.plot(,test_instance.susceptible_cumulative)\n",
    "\n"
   ]
  },
  {
   "cell_type": "code",
   "execution_count": null,
   "metadata": {
    "tags": []
   },
   "outputs": [],
   "source": [
    "\n"
   ]
  },
  {
   "cell_type": "code",
   "execution_count": null,
   "metadata": {},
   "outputs": [],
   "source": []
  },
  {
   "cell_type": "code",
   "execution_count": null,
   "metadata": {},
   "outputs": [],
   "source": []
  },
  {
   "cell_type": "code",
   "execution_count": null,
   "metadata": {
    "tags": []
   },
   "outputs": [],
   "source": []
  },
  {
   "cell_type": "code",
   "execution_count": null,
   "metadata": {},
   "outputs": [],
   "source": []
  },
  {
   "cell_type": "code",
   "execution_count": null,
   "metadata": {},
   "outputs": [],
   "source": [
    "\n"
   ]
  },
  {
   "cell_type": "code",
   "execution_count": null,
   "metadata": {},
   "outputs": [],
   "source": []
  },
  {
   "cell_type": "markdown",
   "metadata": {},
   "source": [
    "# Exercise 1"
   ]
  },
  {
   "cell_type": "markdown",
   "metadata": {},
   "source": [
    "<ol>\n",
    "<li> <code>reset_model</code>: set correct values for all model parameters at \\( t=0 \\). This includes assigning a starting location for each walker.</li>\n",
    "<li> <code>move_walkers</code>: Move all walkers a single step.</li>\n",
    "<li> <code>revert_illegal_moves</code>: For each move that was actually illegal, go back. To be able to do so, you must have temporarily stored the old positions.</li>\n",
    "<li> <code>collide</code>: check for new infections, whether previously infected individuals become contagious (if including a latent period), if an infected person becomes immune or dies etc. Update the current state accordingly.</li>\n",
    "<li> <code>plot_current_state</code>: visualize walker positions, and/or selected summary statistics (total number of infectious, recovered, dead, etc.). This is very useful for debugging. However, you should not automatically plot every time step, only selected ones specified by the user.</li>\n",
    "<li> <code>save_current_state</code>: Save (selected) information about the current state for later retrieval (also useful for debugging, and needed for doing statistics). At the very least, you need to record how many people there are in each \"disease compartment\" at each time step.</li>\n",
    "<li> <code>simulate</code>: Top-level function that organizes a full simulation from start to finish (using the other steps).</li>\n",
    "</ol>\n",
    "\n",
    "It is recommended that you code all of these steps as separate Python functions, and moreover that you place them all within a single class. You can of course use different function names if you want, but they should be meaningful. Appendix A contains example code for the beginning of a class implementation."
   ]
  },
  {
   "cell_type": "code",
   "execution_count": null,
   "metadata": {},
   "outputs": [],
   "source": []
  }
 ],
 "metadata": {
  "kernelspec": {
   "display_name": "Python 3",
   "language": "python",
   "name": "python3"
  },
  "language_info": {
   "codemirror_mode": {
    "name": "ipython",
    "version": 3
   },
   "file_extension": ".py",
   "mimetype": "text/x-python",
   "name": "python",
   "nbconvert_exporter": "python",
   "pygments_lexer": "ipython3",
   "version": "3.7.4"
  }
 },
 "nbformat": 4,
 "nbformat_minor": 4
}
